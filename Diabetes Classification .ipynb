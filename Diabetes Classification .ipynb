{
 "cells": [
  {
   "cell_type": "code",
   "execution_count": 10,
   "id": "35a1ac25",
   "metadata": {},
   "outputs": [],
   "source": [
    "import numpy as np\n",
    "import pandas as pd\n",
    "import matplotlib.pyplot as plt\n",
    "import math\n"
   ]
  },
  {
   "cell_type": "code",
   "execution_count": 11,
   "id": "a449f68b",
   "metadata": {},
   "outputs": [
    {
     "data": {
      "text/html": [
       "<div>\n",
       "<style scoped>\n",
       "    .dataframe tbody tr th:only-of-type {\n",
       "        vertical-align: middle;\n",
       "    }\n",
       "\n",
       "    .dataframe tbody tr th {\n",
       "        vertical-align: top;\n",
       "    }\n",
       "\n",
       "    .dataframe thead th {\n",
       "        text-align: right;\n",
       "    }\n",
       "</style>\n",
       "<table border=\"1\" class=\"dataframe\">\n",
       "  <thead>\n",
       "    <tr style=\"text-align: right;\">\n",
       "      <th></th>\n",
       "      <th>Pregnancies</th>\n",
       "      <th>Glucose</th>\n",
       "      <th>BloodPressure</th>\n",
       "      <th>SkinThickness</th>\n",
       "      <th>Insulin</th>\n",
       "      <th>BMI</th>\n",
       "      <th>DiabetesPedigreeFunction</th>\n",
       "      <th>Age</th>\n",
       "      <th>Outcome</th>\n",
       "    </tr>\n",
       "  </thead>\n",
       "  <tbody>\n",
       "    <tr>\n",
       "      <th>0</th>\n",
       "      <td>6</td>\n",
       "      <td>148</td>\n",
       "      <td>72</td>\n",
       "      <td>35</td>\n",
       "      <td>0</td>\n",
       "      <td>33.6</td>\n",
       "      <td>0.627</td>\n",
       "      <td>50</td>\n",
       "      <td>1</td>\n",
       "    </tr>\n",
       "    <tr>\n",
       "      <th>1</th>\n",
       "      <td>1</td>\n",
       "      <td>85</td>\n",
       "      <td>66</td>\n",
       "      <td>29</td>\n",
       "      <td>0</td>\n",
       "      <td>26.6</td>\n",
       "      <td>0.351</td>\n",
       "      <td>31</td>\n",
       "      <td>0</td>\n",
       "    </tr>\n",
       "    <tr>\n",
       "      <th>2</th>\n",
       "      <td>8</td>\n",
       "      <td>183</td>\n",
       "      <td>64</td>\n",
       "      <td>0</td>\n",
       "      <td>0</td>\n",
       "      <td>23.3</td>\n",
       "      <td>0.672</td>\n",
       "      <td>32</td>\n",
       "      <td>1</td>\n",
       "    </tr>\n",
       "    <tr>\n",
       "      <th>3</th>\n",
       "      <td>1</td>\n",
       "      <td>89</td>\n",
       "      <td>66</td>\n",
       "      <td>23</td>\n",
       "      <td>94</td>\n",
       "      <td>28.1</td>\n",
       "      <td>0.167</td>\n",
       "      <td>21</td>\n",
       "      <td>0</td>\n",
       "    </tr>\n",
       "    <tr>\n",
       "      <th>4</th>\n",
       "      <td>0</td>\n",
       "      <td>137</td>\n",
       "      <td>40</td>\n",
       "      <td>35</td>\n",
       "      <td>168</td>\n",
       "      <td>43.1</td>\n",
       "      <td>2.288</td>\n",
       "      <td>33</td>\n",
       "      <td>1</td>\n",
       "    </tr>\n",
       "  </tbody>\n",
       "</table>\n",
       "</div>"
      ],
      "text/plain": [
       "   Pregnancies  Glucose  BloodPressure  SkinThickness  Insulin   BMI  \\\n",
       "0            6      148             72             35        0  33.6   \n",
       "1            1       85             66             29        0  26.6   \n",
       "2            8      183             64              0        0  23.3   \n",
       "3            1       89             66             23       94  28.1   \n",
       "4            0      137             40             35      168  43.1   \n",
       "\n",
       "   DiabetesPedigreeFunction  Age  Outcome  \n",
       "0                     0.627   50        1  \n",
       "1                     0.351   31        0  \n",
       "2                     0.672   32        1  \n",
       "3                     0.167   21        0  \n",
       "4                     2.288   33        1  "
      ]
     },
     "execution_count": 11,
     "metadata": {},
     "output_type": "execute_result"
    }
   ],
   "source": [
    "df=pd.read_csv('C:/Users/ALVIN OKORO-IJAGHA/Downloads/diabetes.csv')\n",
    "df.head()"
   ]
  },
  {
   "cell_type": "code",
   "execution_count": 12,
   "id": "9bee5dfc",
   "metadata": {},
   "outputs": [
    {
     "name": "stdout",
     "output_type": "stream",
     "text": [
      "(768, 9)\n",
      "Index(['Pregnancies', 'Glucose', 'BloodPressure', 'SkinThickness', 'Insulin',\n",
      "       'BMI', 'DiabetesPedigreeFunction', 'Age', 'Outcome'],\n",
      "      dtype='object')\n",
      "Shape of x_train: (768, 8)\n",
      "Shape of y_train: (768,)\n",
      "After split - Shape of X_train: (614, 8)\n",
      "After split - Shape of X_test: (154, 8)\n",
      "After split - Shape of y_train: (614,)\n",
      "After split - Shape of y_test: (154,)\n",
      "Shape of X_train_np: (614, 8)\n",
      "Shape of y_train_np: (768,)\n"
     ]
    }
   ],
   "source": [
    "print(df.shape)\n",
    "print(df.columns)\n",
    "\n",
    "x_train = df.drop('Outcome', axis=1)\n",
    "y_train = df['Outcome']\n",
    "print(f\"Shape of x_train: {x_train.shape}\")\n",
    "print(f\"Shape of y_train: {y_train.shape}\")\n",
    "\n",
    "from sklearn.model_selection import train_test_split\n",
    "\n",
    "X_train, x_test, Y_train, y_test = train_test_split(x_train, y_train, test_size=0.2, random_state=42)\n",
    "\n",
    "print(f\"After split - Shape of X_train: {X_train.shape}\")\n",
    "print(f\"After split - Shape of X_test: {x_test.shape}\")\n",
    "print(f\"After split - Shape of y_train: {Y_train.shape}\")\n",
    "print(f\"After split - Shape of y_test: {y_test.shape}\")\n",
    "\n",
    "\n",
    "\n",
    "# If you're using these in gradient descent, make sure to convert to numpy arrays:\n",
    "X_train = X_train.to_numpy()\n",
    "Y_train = Y_train.to_numpy()\n",
    "\n",
    "print(f\"Shape of X_train_np: {X_train.shape}\")\n",
    "print(f\"Shape of y_train_np: {y_train.shape}\")"
   ]
  },
  {
   "cell_type": "code",
   "execution_count": 13,
   "id": "72e2573d",
   "metadata": {},
   "outputs": [],
   "source": [
    "from sklearn.preprocessing import StandardScaler\n",
    "\n",
    "scaler = StandardScaler()\n",
    "X_train_scaled = scaler.fit_transform(X_train)\n",
    "\n",
    "# Now use X_train_scaled instead of X_train in gradient descent\n",
    "\n",
    "#Manual implementation of z-score normalization\n",
    "\n",
    "#def z_score_normalize(x):\n",
    " #   mean=np.mean(x,axis=0)\n",
    " #   std=np.std(x,axis=0)\n",
    "  #  z=(x-mean)/std\n",
    "  #  return z"
   ]
  },
  {
   "cell_type": "code",
   "execution_count": 14,
   "id": "7ed0a63b",
   "metadata": {},
   "outputs": [],
   "source": [
    "def sigmoid(z):\n",
    "    return 1 / (1 + np.exp(-np.clip(z, -250, 250)))\n",
    "#We used -np.clip(-250,250) because we want the input to np.exp to be from -250 to 250 in order to prevent numerical underflowing or overflowing issues, especailly with large positive or negative inputs being inserted into np.exp"
   ]
  },
  {
   "cell_type": "code",
   "execution_count": 15,
   "id": "f9e026fd",
   "metadata": {},
   "outputs": [],
   "source": [
    "#Vectorized version of the cost function\n",
    "\n",
    "def compute_cost(x, y, w, b, lambda_=1):\n",
    "    m = x.shape[0]\n",
    "    z = np.dot(x, w) + b\n",
    "    fwb = sigmoid(z)\n",
    "    epsilon = 1e-15  # small value to avoid log(0)\n",
    "    cost = -np.mean(y * np.log(fwb + epsilon) + (1 - y) * np.log(1 - fwb + epsilon))\n",
    "    reg_cost = (lambda_ / (2 * m)) * np.sum(w**2)\n",
    "    return cost + reg_cost\n",
    "\n",
    "#The vectorized version performs all these operations in a single pass over the data\n",
    "#For large datasets, this difference between a vectorized verson and a for loop version can be substantial."
   ]
  },
  {
   "cell_type": "code",
   "execution_count": 16,
   "id": "b840101c",
   "metadata": {},
   "outputs": [],
   "source": [
    "def compute_gradient(x,y,w,b,lambda_):\n",
    "    m,n=x.shape\n",
    "    dj_dw=np.zeros((n,))\n",
    "    dj_db=0\n",
    "    for i in range(m):\n",
    "        fwb=sigmoid(np.dot(x[i], w) + b)\n",
    "        err=fwb-y[i]\n",
    "        for j in range(n):\n",
    "            dj_dw[j] += err * x[i, j]\n",
    "        dj_db+=err\n",
    "    dj_dw=dj_dw/m\n",
    "    dj_db=dj_db/m\n",
    "    for j in range(n):\n",
    "        dj_dw[j]=dj_dw[j]+(lambda_/m)*w[j]\n",
    "    \n",
    "    return dj_dw,dj_db\n"
   ]
  },
  {
   "cell_type": "code",
   "execution_count": 17,
   "id": "2cafef60",
   "metadata": {},
   "outputs": [],
   "source": [
    "def gradient_descent(x,y,w_in,b_in,alpha,num_iters,cost_function,gradient_function,lambda_):\n",
    "    \n",
    "    m, n = x.shape\n",
    "    J_history=[]\n",
    "    p_history=[]\n",
    "    w=w_in#np.array(w_in)\n",
    "        \n",
    "    b=b_in\n",
    "    \n",
    "    for i in range(num_iters):\n",
    "        dj_dw,dj_db=gradient_function(x,y,w,b,lambda_)\n",
    "        \n",
    "        w=w-alpha*dj_dw\n",
    "        b=b-alpha*dj_db\n",
    "        if i < 10000:\n",
    "            J_history.append(cost_function(x,y,w,b,lambda_))\n",
    "            p_history.append([w,b])\n",
    "        if i % (num_iters // 10) == 0:\n",
    "                print(f'Iteration {i:4}: Cost {J_history[-1]:0.2e}, '\n",
    "                      f'dj_db: {dj_db:0.3e}, b: {b:0.5e}')\n",
    "                print(f'dj_dw: {dj_dw}')\n",
    "                print(f'w: {w}')\n",
    "                \n",
    "    return w,b,J_history,p_history"
   ]
  },
  {
   "cell_type": "code",
   "execution_count": 18,
   "id": "97c36706",
   "metadata": {},
   "outputs": [
    {
     "name": "stdout",
     "output_type": "stream",
     "text": [
      "Iteration    0: Cost 6.80e-01, dj_db: 1.531e-01, b: -1.53094e-02\n",
      "dj_dw: [-0.09879095 -0.21710507 -0.03905261 -0.02756524 -0.05164325 -0.14581114\n",
      " -0.07356821 -0.13358737]\n",
      "w: [0.0098791  0.02171051 0.00390526 0.00275652 0.00516432 0.01458111\n",
      " 0.00735682 0.01335874]\n",
      "Iteration  300: Cost 4.69e-01, dj_db: 3.034e-03, b: -8.53280e-01\n",
      "dj_dw: [-1.48978276e-05 -4.98625568e-03  2.68350739e-03 -1.15540321e-03\n",
      "  3.24313235e-03 -4.10713970e-03 -3.48576178e-04 -1.22493415e-03]\n",
      "w: [ 0.21503172  1.01667892 -0.21716927  0.02270075 -0.1581311   0.73988876\n",
      "  0.22969105  0.40736352]\n",
      "Iteration  600: Cost 4.68e-01, dj_db: 2.985e-04, b: -8.87304e-01\n",
      "dj_dw: [ 2.93076310e-05 -6.57281038e-04  3.42634800e-04 -3.00770321e-04\n",
      "  4.99436493e-04 -3.94304814e-04 -2.39815227e-05 -1.69278300e-04]\n",
      "w: [ 0.21420807  1.07921408 -0.25088132  0.04278486 -0.20173911  0.78701205\n",
      "  0.23312392  0.4231987 ]\n",
      "Iteration  900: Cost 4.68e-01, dj_db: 3.618e-05, b: -8.90997e-01\n",
      "dj_dw: [ 7.57551843e-06 -9.89961972e-05  4.58908696e-05 -5.81794865e-05\n",
      "  8.02641757e-05 -3.75649504e-05 -2.31208682e-06 -2.30548076e-05]\n",
      "w: [ 0.21370115  1.08799061 -0.25528596  0.04724564 -0.20858458  0.79156526\n",
      "  0.23339807  0.42540184]\n",
      "Iteration 1200: Cost 4.68e-01, dj_db: 4.630e-06, b: -8.91454e-01\n",
      "dj_dw: [ 1.33079640e-06 -1.55332737e-05  6.30412584e-06 -1.04263669e-05\n",
      "  1.30758075e-05 -3.20786981e-06 -2.38187698e-07 -2.94632679e-06]\n",
      "w: [ 0.21359174  1.08933535 -0.25588103  0.04807977 -0.20969132  0.79198781\n",
      "  0.23342526  0.42569558]\n",
      "Iteration 1500: Cost 4.68e-01, dj_db: 6.147e-07, b: -8.91513e-01\n",
      "dj_dw: [ 1.97589700e-07 -2.49100955e-06  8.89110481e-07 -1.80496944e-06\n",
      "  2.14294136e-06 -1.92289203e-07 -2.54565694e-08 -3.50085028e-07]\n",
      "w: [ 0.2135738   1.08954819 -0.25596352  0.04822711 -0.20987206  0.79202127\n",
      "  0.23342809  0.42573225]\n",
      "Iteration 1800: Cost 4.68e-01, dj_db: 8.442e-08, b: -8.91521e-01\n",
      "dj_dw: [ 2.63270178e-08 -4.04977294e-07  1.28607577e-07 -3.06842974e-07\n",
      "  3.52534278e-07  7.07023709e-09 -2.85883965e-09 -3.75568090e-08]\n",
      "w: [ 0.21357124  1.0895825  -0.25597526  0.04825242 -0.20990173  0.79202267\n",
      "  0.2334284   0.42573647]\n",
      "Iteration 2100: Cost 4.68e-01, dj_db: 1.196e-08, b: -8.91522e-01\n",
      "dj_dw: [ 3.17869410e-09 -6.64191871e-08  1.90373296e-08 -5.16454813e-08\n",
      "  5.81582068e-08  5.71865394e-09 -3.43720116e-10 -3.31112375e-09]\n",
      "w: [ 0.21357091  1.0895881  -0.25597698  0.04825671 -0.20990661  0.79202243\n",
      "  0.23342844  0.4257369 ]\n",
      "Iteration 2400: Cost 4.68e-01, dj_db: 1.744e-09, b: -8.91523e-01\n",
      "dj_dw: [ 3.37364450e-10 -1.09542684e-08  2.87636487e-09 -8.64479933e-09\n",
      "  9.61514531e-09  1.48778161e-09 -4.48067492e-11 -1.44242932e-10]\n",
      "w: [ 0.21357087  1.08958902 -0.25597723  0.04825743 -0.20990742  0.79202233\n",
      "  0.23342844  0.42573694]\n",
      "Iteration 2700: Cost 4.68e-01, dj_db: 2.607e-10, b: -8.91523e-01\n",
      "dj_dw: [ 2.76878518e-11 -1.81305959e-09  4.42388151e-10 -1.44268947e-09\n",
      "  1.59229806e-09  3.11781711e-10 -6.32889383e-12  3.13406049e-11]\n",
      "w: [ 0.21357086  1.08958917 -0.25597727  0.04825755 -0.20990755  0.79202231\n",
      "  0.23342844  0.42573694]\n",
      "(w,b) found by gradient descent: [ 0.21357086  1.0895892  -0.25597728  0.04825757 -0.20990757  0.7920223\n",
      "  0.23342844  0.42573694],  -0.8915\n"
     ]
    }
   ],
   "source": [
    "n = X_train_scaled.shape[1]  # number of features\n",
    "w_init = np.zeros(n) # Basically an array of zeros of length maybe 5. Since there are multiple features.\n",
    "b_init = 0\n",
    "lambda_ = 0.1\n",
    "iterations = 3000\n",
    "alpha = 0.1 \n",
    "\n",
    "# Perform gradient descent\n",
    "w_final, b_final, J_hist, p_hist = gradient_descent(X_train_scaled, Y_train, w_init, b_init, alpha, iterations, compute_cost, compute_gradient, lambda_)\n",
    "print(f'(w,b) found by gradient descent: {w_final}, {b_final:8.4f}')"
   ]
  },
  {
   "cell_type": "code",
   "execution_count": 19,
   "id": "9a6271d9",
   "metadata": {},
   "outputs": [
    {
     "data": {
      "image/png": "[encoded data removed]",
      "text/plain": [
       "<Figure size 640x480 with 1 Axes>"
      ]
     },
     "metadata": {},
     "output_type": "display_data"
    }
   ],
   "source": [
    "# Plot cost function history\n",
    "import matplotlib.pyplot as plt\n",
    "plt.plot(J_hist)\n",
    "plt.xlabel('Iterationsx100')\n",
    "plt.ylabel('Cost')\n",
    "plt.title('Cost Function History')\n",
    "plt.show()"
   ]
  },
  {
   "cell_type": "code",
   "execution_count": 20,
   "id": "ebb87d45",
   "metadata": {},
   "outputs": [
    {
     "data": {
      "image/png": "[encoded data removed]",
      "text/plain": [
       "<Figure size 1200x600 with 1 Axes>"
      ]
     },
     "metadata": {},
     "output_type": "display_data"
    }
   ],
   "source": [
    "#Learning curve\n",
    "plt.figure(figsize=(12, 6))\n",
    "plt.plot(range(iterations), J_hist, 'b-')\n",
    "plt.title('Learning curve')\n",
    "plt.xlabel('Number of iterations')\n",
    "plt.ylabel('Cost')\n",
    "plt.yscale('log')  # setting y-axis to a log scale in order to better visualize the cost changes\n",
    "plt.grid(True)\n",
    "plt.show()\n"
   ]
  },
  {
   "cell_type": "code",
   "execution_count": 21,
   "id": "159918b3",
   "metadata": {},
   "outputs": [
    {
     "name": "stdout",
     "output_type": "stream",
     "text": [
      "Test Accuracy: 0.7532\n",
      "Confusion Matrix:\n",
      "[[79 20]\n",
      " [18 37]]\n"
     ]
    },
    {
     "name": "stderr",
     "output_type": "stream",
     "text": [
      "C:\\Users\\ALVIN OKORO-IJAGHA\\anaconda3\\lib\\site-packages\\sklearn\\base.py:413: UserWarning: X has feature names, but StandardScaler was fitted without feature names\n",
      "  warnings.warn(\n"
     ]
    }
   ],
   "source": [
    "def predict(X, w, b):\n",
    "    return sigmoid(np.dot(X, w) + b) >= 0.5\n",
    "\n",
    "# Predict on test set\n",
    "x_test_scaled = scaler.transform(x_test)  # Make sure to scale test data\n",
    "y_pred = predict(x_test_scaled, w_final, b_final)\n",
    "\n",
    "# Calculate accuracy\n",
    "accuracy = np.mean(y_pred == y_test)\n",
    "print(f\"Test Accuracy: {accuracy:.4f}\")\n",
    "\n",
    "# Confusion Matrix\n",
    "from sklearn.metrics import confusion_matrix\n",
    "cm = confusion_matrix(y_test, y_pred)\n",
    "print(\"Confusion Matrix:\")\n",
    "print(cm)\n",
    "\n",
    "\n",
    "# This will bring a table that summarizes the performance of the classification model. In this case it will be 2x2 matrix, since it's binary classifiaction.\n",
    "\n",
    "#Positives (TP): Correctly predicted positive cases True Negatives (TN): Correctly predicted negative cases False Positives (FP): Negative cases incorrectly predicted as positive False Negatives (FN): Positive cases incorrectly predicted as negative\n"
   ]
  },
  {
   "cell_type": "code",
   "execution_count": 22,
   "id": "54f0d07c",
   "metadata": {},
   "outputs": [
    {
     "data": {
      "image/png": "[encoded data removed]",
      "text/plain": [
       "<Figure size 800x600 with 1 Axes>"
      ]
     },
     "metadata": {},
     "output_type": "display_data"
    }
   ],
   "source": [
    "# Actual vs Predicted\n",
    "plt.figure(figsize=(8, 6))\n",
    "plt.scatter(y_test, y_pred, alpha=0.5)\n",
    "plt.xlabel('Actual Outcome')\n",
    "plt.ylabel('Predicted Outcome')\n",
    "plt.title('Actual vs Predicted Outcome')\n",
    "# Add jitter to better visualize overlapping points\n",
    "plt.scatter(y_test + np.random.normal(0, 0.05, len(y_test)), \n",
    "            y_pred + np.random.normal(0, 0.05, len(y_pred)), \n",
    "            alpha=0.5)\n",
    "plt.xlim(-0.5, 1.5)\n",
    "plt.ylim(-0.5, 1.5)\n",
    "plt.show()\n",
    "\n",
    "#The plot is visualizing the results of a binary classification model. In this case:\n",
    "\n",
    "#0 represents \"no diabetes\"\n",
    "#1 represents \"has diabetes\"\n",
    "\n",
    "#Thw plot shows:\n",
    "\n",
    "#Perfect predictions would fall on the points (0,0) and (1,1)\n",
    "#Points at (0,1) are false positives (predicted diabetes when there wasn't)\n",
    "#Points at (1,0) are false negatives (predicted no diabetes when there was)\n"
   ]
  },
  {
   "cell_type": "code",
   "execution_count": null,
   "id": "fdf7da75",
   "metadata": {},
   "outputs": [],
   "source": []
  },
  {
   "cell_type": "code",
   "execution_count": null,
   "id": "8c8d153b",
   "metadata": {},
   "outputs": [],
   "source": []
  }
 ],
 "metadata": {
  "kernelspec": {
   "display_name": "Python 3 (ipykernel)",
   "language": "python",
   "name": "python3"
  },
  "language_info": {
   "codemirror_mode": {
    "name": "ipython",
    "version": 3
   },
   "file_extension": ".py",
   "mimetype": "text/x-python",
   "name": "python",
   "nbconvert_exporter": "python",
   "pygments_lexer": "ipython3",
   "version": "3.10.9"
  }
 },
 "nbformat": 4,
 "nbformat_minor": 5
}
